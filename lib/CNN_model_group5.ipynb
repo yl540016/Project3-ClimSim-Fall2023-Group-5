{
  "cells": [
    {
      "cell_type": "markdown",
      "metadata": {
        "id": "ov3Ys4YrXw4q"
      },
      "source": [
        "# Import data_utils"
      ]
    },
    {
      "cell_type": "code",
      "execution_count": 2,
      "metadata": {
        "colab": {
          "base_uri": "https://localhost:8080/"
        },
        "id": "vJnqyheTX4QS",
        "outputId": "d27ba059-4b07-48c3-e8f7-a36df2469e72"
      },
      "outputs": [
        {
          "output_type": "stream",
          "name": "stdout",
          "text": [
            "Requirement already satisfied: pip in /usr/local/lib/python3.10/dist-packages (23.1.2)\n",
            "Collecting pip\n",
            "  Downloading pip-23.3.1-py3-none-any.whl (2.1 MB)\n",
            "\u001b[2K     \u001b[90m━━━━━━━━━━━━━━━━━━━━━━━━━━━━━━━━━━━━━━━━\u001b[0m \u001b[32m2.1/2.1 MB\u001b[0m \u001b[31m22.1 MB/s\u001b[0m eta \u001b[36m0:00:00\u001b[0m\n",
            "\u001b[?25hInstalling collected packages: pip\n",
            "  Attempting uninstall: pip\n",
            "    Found existing installation: pip 23.1.2\n",
            "    Uninstalling pip-23.1.2:\n",
            "      Successfully uninstalled pip-23.1.2\n",
            "Successfully installed pip-23.3.1\n",
            "Requirement already satisfied: psutil in /usr/local/lib/python3.10/dist-packages (5.9.5)\n",
            "\u001b[33mWARNING: Running pip as the 'root' user can result in broken permissions and conflicting behaviour with the system package manager. It is recommended to use a virtual environment instead: https://pip.pypa.io/warnings/venv\u001b[0m\u001b[33m\n",
            "\u001b[0mRequirement already satisfied: tqdm in /usr/local/lib/python3.10/dist-packages (4.66.1)\n",
            "\u001b[33mWARNING: Running pip as the 'root' user can result in broken permissions and conflicting behaviour with the system package manager. It is recommended to use a virtual environment instead: https://pip.pypa.io/warnings/venv\u001b[0m\u001b[33m\n",
            "\u001b[0m"
          ]
        }
      ],
      "source": [
        "!pip install --upgrade pip\n",
        "!pip install psutil\n",
        "!pip install tqdm"
      ]
    },
    {
      "cell_type": "code",
      "execution_count": 3,
      "metadata": {
        "colab": {
          "base_uri": "https://localhost:8080/",
          "height": 802
        },
        "id": "m5WJs8OPZGeq",
        "outputId": "61507d0e-80d1-476a-864a-9ffa22f74147"
      },
      "outputs": [
        {
          "output_type": "stream",
          "name": "stdout",
          "text": [
            "Looking in links: https://download.pytorch.org/whl/cu113/torch_stable.html\n",
            "Collecting torch==1.11.0+cu113\n",
            "  Downloading https://download.pytorch.org/whl/cu113/torch-1.11.0%2Bcu113-cp310-cp310-linux_x86_64.whl (1637.0 MB)\n",
            "\u001b[2K     \u001b[90m━━━━━━━━━━━━━━━━━━━━━━━━━━━━━━━━━━━━━━━━\u001b[0m \u001b[32m1.6/1.6 GB\u001b[0m \u001b[31m1.7 MB/s\u001b[0m eta \u001b[36m0:00:00\u001b[0m\n",
            "\u001b[?25hCollecting torchvision==0.12.0+cu113\n",
            "  Downloading https://download.pytorch.org/whl/cu113/torchvision-0.12.0%2Bcu113-cp310-cp310-linux_x86_64.whl (22.3 MB)\n",
            "\u001b[2K     \u001b[90m━━━━━━━━━━━━━━━━━━━━━━━━━━━━━━━━━━━━━━━━\u001b[0m \u001b[32m22.3/22.3 MB\u001b[0m \u001b[31m50.8 MB/s\u001b[0m eta \u001b[36m0:00:00\u001b[0m\n",
            "\u001b[?25hCollecting torchaudio==0.11.0+cu113\n",
            "  Downloading https://download.pytorch.org/whl/cu113/torchaudio-0.11.0%2Bcu113-cp310-cp310-linux_x86_64.whl (2.9 MB)\n",
            "\u001b[2K     \u001b[90m━━━━━━━━━━━━━━━━━━━━━━━━━━━━━━━━━━━━━━━━\u001b[0m \u001b[32m2.9/2.9 MB\u001b[0m \u001b[31m6.1 MB/s\u001b[0m eta \u001b[36m0:00:00\u001b[0m\n",
            "\u001b[?25hRequirement already satisfied: typing-extensions in /usr/local/lib/python3.10/dist-packages (from torch==1.11.0+cu113) (4.5.0)\n",
            "Requirement already satisfied: numpy in /usr/local/lib/python3.10/dist-packages (from torchvision==0.12.0+cu113) (1.23.5)\n",
            "Requirement already satisfied: requests in /usr/local/lib/python3.10/dist-packages (from torchvision==0.12.0+cu113) (2.31.0)\n",
            "Requirement already satisfied: pillow!=8.3.*,>=5.3.0 in /usr/local/lib/python3.10/dist-packages (from torchvision==0.12.0+cu113) (9.4.0)\n",
            "Requirement already satisfied: charset-normalizer<4,>=2 in /usr/local/lib/python3.10/dist-packages (from requests->torchvision==0.12.0+cu113) (3.3.1)\n",
            "Requirement already satisfied: idna<4,>=2.5 in /usr/local/lib/python3.10/dist-packages (from requests->torchvision==0.12.0+cu113) (3.4)\n",
            "Requirement already satisfied: urllib3<3,>=1.21.1 in /usr/local/lib/python3.10/dist-packages (from requests->torchvision==0.12.0+cu113) (2.0.7)\n",
            "Requirement already satisfied: certifi>=2017.4.17 in /usr/local/lib/python3.10/dist-packages (from requests->torchvision==0.12.0+cu113) (2023.7.22)\n",
            "Installing collected packages: torch, torchvision, torchaudio\n",
            "  Attempting uninstall: torch\n",
            "    Found existing installation: torch 2.1.0+cu118\n",
            "    Uninstalling torch-2.1.0+cu118:\n",
            "      Successfully uninstalled torch-2.1.0+cu118\n",
            "  Attempting uninstall: torchvision\n",
            "    Found existing installation: torchvision 0.16.0+cu118\n",
            "    Uninstalling torchvision-0.16.0+cu118:\n",
            "      Successfully uninstalled torchvision-0.16.0+cu118\n",
            "  Attempting uninstall: torchaudio\n",
            "    Found existing installation: torchaudio 2.1.0+cu118\n",
            "    Uninstalling torchaudio-2.1.0+cu118:\n",
            "      Successfully uninstalled torchaudio-2.1.0+cu118\n",
            "\u001b[31mERROR: pip's dependency resolver does not currently take into account all the packages that are installed. This behaviour is the source of the following dependency conflicts.\n",
            "torchdata 0.7.0 requires torch==2.1.0, but you have torch 1.11.0+cu113 which is incompatible.\n",
            "torchtext 0.16.0 requires torch==2.1.0, but you have torch 1.11.0+cu113 which is incompatible.\u001b[0m\u001b[31m\n",
            "\u001b[0mSuccessfully installed torch-1.11.0+cu113 torchaudio-0.11.0+cu113 torchvision-0.12.0+cu113\n",
            "\u001b[33mWARNING: Running pip as the 'root' user can result in broken permissions and conflicting behaviour with the system package manager. It is recommended to use a virtual environment instead: https://pip.pypa.io/warnings/venv\u001b[0m\u001b[33m\n",
            "\u001b[0m"
          ]
        },
        {
          "output_type": "display_data",
          "data": {
            "application/vnd.colab-display-data+json": {
              "pip_warning": {
                "packages": [
                  "torch"
                ]
              }
            }
          },
          "metadata": {}
        }
      ],
      "source": [
        "!pip3 install torch==1.11.0+cu113 torchvision==0.12.0+cu113 torchaudio==0.11.0+cu113 -f https://download.pytorch.org/whl/cu113/torch_stable.html"
      ]
    },
    {
      "cell_type": "code",
      "execution_count": 4,
      "metadata": {
        "colab": {
          "base_uri": "https://localhost:8080/"
        },
        "id": "hHVZM1_SZdkO",
        "outputId": "09033a90-22ca-4b6f-cf3e-1c47f3eb91c4"
      },
      "outputs": [
        {
          "output_type": "stream",
          "name": "stdout",
          "text": [
            "Requirement already satisfied: xarray in /usr/local/lib/python3.10/dist-packages (2023.7.0)\n",
            "Requirement already satisfied: numpy>=1.21 in /usr/local/lib/python3.10/dist-packages (from xarray) (1.23.5)\n",
            "Requirement already satisfied: pandas>=1.4 in /usr/local/lib/python3.10/dist-packages (from xarray) (1.5.3)\n",
            "Requirement already satisfied: packaging>=21.3 in /usr/local/lib/python3.10/dist-packages (from xarray) (23.2)\n",
            "Requirement already satisfied: python-dateutil>=2.8.1 in /usr/local/lib/python3.10/dist-packages (from pandas>=1.4->xarray) (2.8.2)\n",
            "Requirement already satisfied: pytz>=2020.1 in /usr/local/lib/python3.10/dist-packages (from pandas>=1.4->xarray) (2023.3.post1)\n",
            "Requirement already satisfied: six>=1.5 in /usr/local/lib/python3.10/dist-packages (from python-dateutil>=2.8.1->pandas>=1.4->xarray) (1.16.0)\n",
            "\u001b[33mWARNING: Running pip as the 'root' user can result in broken permissions and conflicting behaviour with the system package manager. It is recommended to use a virtual environment instead: https://pip.pypa.io/warnings/venv\u001b[0m\u001b[33m\n",
            "\u001b[0m"
          ]
        }
      ],
      "source": [
        "!pip install xarray"
      ]
    },
    {
      "cell_type": "code",
      "execution_count": 5,
      "metadata": {
        "colab": {
          "base_uri": "https://localhost:8080/"
        },
        "id": "sP0jMmU7zRQE",
        "outputId": "bcd5528e-1475-4c72-aafa-4232d00ac347"
      },
      "outputs": [
        {
          "output_type": "stream",
          "name": "stdout",
          "text": [
            "Collecting keras-tuner\n",
            "  Downloading keras_tuner-1.4.5-py3-none-any.whl.metadata (5.4 kB)\n",
            "Collecting keras-core (from keras-tuner)\n",
            "  Downloading keras_core-0.1.7-py3-none-any.whl.metadata (4.3 kB)\n",
            "Requirement already satisfied: packaging in /usr/local/lib/python3.10/dist-packages (from keras-tuner) (23.2)\n",
            "Requirement already satisfied: requests in /usr/local/lib/python3.10/dist-packages (from keras-tuner) (2.31.0)\n",
            "Collecting kt-legacy (from keras-tuner)\n",
            "  Downloading kt_legacy-1.0.5-py3-none-any.whl (9.6 kB)\n",
            "Requirement already satisfied: absl-py in /usr/local/lib/python3.10/dist-packages (from keras-core->keras-tuner) (1.4.0)\n",
            "Requirement already satisfied: numpy in /usr/local/lib/python3.10/dist-packages (from keras-core->keras-tuner) (1.23.5)\n",
            "Requirement already satisfied: rich in /usr/local/lib/python3.10/dist-packages (from keras-core->keras-tuner) (13.6.0)\n",
            "Collecting namex (from keras-core->keras-tuner)\n",
            "  Downloading namex-0.0.7-py3-none-any.whl (5.8 kB)\n",
            "Requirement already satisfied: h5py in /usr/local/lib/python3.10/dist-packages (from keras-core->keras-tuner) (3.9.0)\n",
            "Requirement already satisfied: dm-tree in /usr/local/lib/python3.10/dist-packages (from keras-core->keras-tuner) (0.1.8)\n",
            "Requirement already satisfied: charset-normalizer<4,>=2 in /usr/local/lib/python3.10/dist-packages (from requests->keras-tuner) (3.3.1)\n",
            "Requirement already satisfied: idna<4,>=2.5 in /usr/local/lib/python3.10/dist-packages (from requests->keras-tuner) (3.4)\n",
            "Requirement already satisfied: urllib3<3,>=1.21.1 in /usr/local/lib/python3.10/dist-packages (from requests->keras-tuner) (2.0.7)\n",
            "Requirement already satisfied: certifi>=2017.4.17 in /usr/local/lib/python3.10/dist-packages (from requests->keras-tuner) (2023.7.22)\n",
            "Requirement already satisfied: markdown-it-py>=2.2.0 in /usr/local/lib/python3.10/dist-packages (from rich->keras-core->keras-tuner) (3.0.0)\n",
            "Requirement already satisfied: pygments<3.0.0,>=2.13.0 in /usr/local/lib/python3.10/dist-packages (from rich->keras-core->keras-tuner) (2.16.1)\n",
            "Requirement already satisfied: mdurl~=0.1 in /usr/local/lib/python3.10/dist-packages (from markdown-it-py>=2.2.0->rich->keras-core->keras-tuner) (0.1.2)\n",
            "Downloading keras_tuner-1.4.5-py3-none-any.whl (129 kB)\n",
            "\u001b[2K   \u001b[90m━━━━━━━━━━━━━━━━━━━━━━━━━━━━━━━━━━━━━━━━\u001b[0m \u001b[32m129.5/129.5 kB\u001b[0m \u001b[31m3.1 MB/s\u001b[0m eta \u001b[36m0:00:00\u001b[0m\n",
            "\u001b[?25hDownloading keras_core-0.1.7-py3-none-any.whl (950 kB)\n",
            "\u001b[2K   \u001b[90m━━━━━━━━━━━━━━━━━━━━━━━━━━━━━━━━━━━━━━━━\u001b[0m \u001b[32m950.8/950.8 kB\u001b[0m \u001b[31m26.2 MB/s\u001b[0m eta \u001b[36m0:00:00\u001b[0m\n",
            "\u001b[?25hInstalling collected packages: namex, kt-legacy, keras-core, keras-tuner\n",
            "Successfully installed keras-core-0.1.7 keras-tuner-1.4.5 kt-legacy-1.0.5 namex-0.0.7\n",
            "\u001b[33mWARNING: Running pip as the 'root' user can result in broken permissions and conflicting behaviour with the system package manager. It is recommended to use a virtual environment instead: https://pip.pypa.io/warnings/venv\u001b[0m\u001b[33m\n",
            "\u001b[0m"
          ]
        }
      ],
      "source": [
        "pip install keras-tuner"
      ]
    },
    {
      "cell_type": "code",
      "source": [
        "pip install --upgrade torch torchvision"
      ],
      "metadata": {
        "colab": {
          "base_uri": "https://localhost:8080/",
          "height": 1000
        },
        "id": "ocSlgVXbAqq_",
        "outputId": "5700bde7-6691-4ec2-82ea-1699e8034154"
      },
      "execution_count": 17,
      "outputs": [
        {
          "output_type": "stream",
          "name": "stdout",
          "text": [
            "Requirement already satisfied: torch in /usr/local/lib/python3.10/dist-packages (1.11.0+cu113)\n",
            "Collecting torch\n",
            "  Downloading torch-2.1.0-cp310-cp310-manylinux1_x86_64.whl.metadata (25 kB)\n",
            "Requirement already satisfied: torchvision in /usr/local/lib/python3.10/dist-packages (0.12.0+cu113)\n",
            "Collecting torchvision\n",
            "  Downloading torchvision-0.16.0-cp310-cp310-manylinux1_x86_64.whl.metadata (6.6 kB)\n",
            "Requirement already satisfied: filelock in /usr/local/lib/python3.10/dist-packages (from torch) (3.12.4)\n",
            "Requirement already satisfied: typing-extensions in /usr/local/lib/python3.10/dist-packages (from torch) (4.5.0)\n",
            "Requirement already satisfied: sympy in /usr/local/lib/python3.10/dist-packages (from torch) (1.12)\n",
            "Requirement already satisfied: networkx in /usr/local/lib/python3.10/dist-packages (from torch) (3.2)\n",
            "Requirement already satisfied: jinja2 in /usr/local/lib/python3.10/dist-packages (from torch) (3.1.2)\n",
            "Requirement already satisfied: fsspec in /usr/local/lib/python3.10/dist-packages (from torch) (2023.6.0)\n",
            "Collecting nvidia-cuda-nvrtc-cu12==12.1.105 (from torch)\n",
            "  Downloading nvidia_cuda_nvrtc_cu12-12.1.105-py3-none-manylinux1_x86_64.whl (23.7 MB)\n",
            "\u001b[2K     \u001b[90m━━━━━━━━━━━━━━━━━━━━━━━━━━━━━━━━━━━━━━━━\u001b[0m \u001b[32m23.7/23.7 MB\u001b[0m \u001b[31m90.0 MB/s\u001b[0m eta \u001b[36m0:00:00\u001b[0m\n",
            "\u001b[?25hCollecting nvidia-cuda-runtime-cu12==12.1.105 (from torch)\n",
            "  Downloading nvidia_cuda_runtime_cu12-12.1.105-py3-none-manylinux1_x86_64.whl (823 kB)\n",
            "\u001b[2K     \u001b[90m━━━━━━━━━━━━━━━━━━━━━━━━━━━━━━━━━━━━━━━━\u001b[0m \u001b[32m823.6/823.6 kB\u001b[0m \u001b[31m51.2 MB/s\u001b[0m eta \u001b[36m0:00:00\u001b[0m\n",
            "\u001b[?25hCollecting nvidia-cuda-cupti-cu12==12.1.105 (from torch)\n",
            "  Downloading nvidia_cuda_cupti_cu12-12.1.105-py3-none-manylinux1_x86_64.whl (14.1 MB)\n",
            "\u001b[2K     \u001b[90m━━━━━━━━━━━━━━━━━━━━━━━━━━━━━━━━━━━━━━━━\u001b[0m \u001b[32m14.1/14.1 MB\u001b[0m \u001b[31m89.0 MB/s\u001b[0m eta \u001b[36m0:00:00\u001b[0m\n",
            "\u001b[?25hCollecting nvidia-cudnn-cu12==8.9.2.26 (from torch)\n",
            "  Downloading nvidia_cudnn_cu12-8.9.2.26-py3-none-manylinux1_x86_64.whl.metadata (1.6 kB)\n",
            "Collecting nvidia-cublas-cu12==12.1.3.1 (from torch)\n",
            "  Downloading nvidia_cublas_cu12-12.1.3.1-py3-none-manylinux1_x86_64.whl (410.6 MB)\n",
            "\u001b[2K     \u001b[90m━━━━━━━━━━━━━━━━━━━━━━━━━━━━━━━━━━━━━━━━\u001b[0m \u001b[32m410.6/410.6 MB\u001b[0m \u001b[31m4.1 MB/s\u001b[0m eta \u001b[36m0:00:00\u001b[0m\n",
            "\u001b[?25hCollecting nvidia-cufft-cu12==11.0.2.54 (from torch)\n",
            "  Downloading nvidia_cufft_cu12-11.0.2.54-py3-none-manylinux1_x86_64.whl (121.6 MB)\n",
            "\u001b[2K     \u001b[90m━━━━━━━━━━━━━━━━━━━━━━━━━━━━━━━━━━━━━━━━\u001b[0m \u001b[32m121.6/121.6 MB\u001b[0m \u001b[31m8.5 MB/s\u001b[0m eta \u001b[36m0:00:00\u001b[0m\n",
            "\u001b[?25hCollecting nvidia-curand-cu12==10.3.2.106 (from torch)\n",
            "  Downloading nvidia_curand_cu12-10.3.2.106-py3-none-manylinux1_x86_64.whl (56.5 MB)\n",
            "\u001b[2K     \u001b[90m━━━━━━━━━━━━━━━━━━━━━━━━━━━━━━━━━━━━━━━━\u001b[0m \u001b[32m56.5/56.5 MB\u001b[0m \u001b[31m40.2 MB/s\u001b[0m eta \u001b[36m0:00:00\u001b[0m\n",
            "\u001b[?25hCollecting nvidia-cusolver-cu12==11.4.5.107 (from torch)\n",
            "  Downloading nvidia_cusolver_cu12-11.4.5.107-py3-none-manylinux1_x86_64.whl (124.2 MB)\n",
            "\u001b[2K     \u001b[90m━━━━━━━━━━━━━━━━━━━━━━━━━━━━━━━━━━━━━━━━\u001b[0m \u001b[32m124.2/124.2 MB\u001b[0m \u001b[31m8.1 MB/s\u001b[0m eta \u001b[36m0:00:00\u001b[0m\n",
            "\u001b[?25hCollecting nvidia-cusparse-cu12==12.1.0.106 (from torch)\n",
            "  Downloading nvidia_cusparse_cu12-12.1.0.106-py3-none-manylinux1_x86_64.whl (196.0 MB)\n",
            "\u001b[2K     \u001b[90m━━━━━━━━━━━━━━━━━━━━━━━━━━━━━━━━━━━━━━━━\u001b[0m \u001b[32m196.0/196.0 MB\u001b[0m \u001b[31m5.3 MB/s\u001b[0m eta \u001b[36m0:00:00\u001b[0m\n",
            "\u001b[?25hCollecting nvidia-nccl-cu12==2.18.1 (from torch)\n",
            "  Downloading nvidia_nccl_cu12-2.18.1-py3-none-manylinux1_x86_64.whl (209.8 MB)\n",
            "\u001b[2K     \u001b[90m━━━━━━━━━━━━━━━━━━━━━━━━━━━━━━━━━━━━━━━━\u001b[0m \u001b[32m209.8/209.8 MB\u001b[0m \u001b[31m5.3 MB/s\u001b[0m eta \u001b[36m0:00:00\u001b[0m\n",
            "\u001b[?25hCollecting nvidia-nvtx-cu12==12.1.105 (from torch)\n",
            "  Downloading nvidia_nvtx_cu12-12.1.105-py3-none-manylinux1_x86_64.whl (99 kB)\n",
            "\u001b[2K     \u001b[90m━━━━━━━━━━━━━━━━━━━━━━━━━━━━━━━━━━━━━━━━\u001b[0m \u001b[32m99.1/99.1 kB\u001b[0m \u001b[31m8.6 MB/s\u001b[0m eta \u001b[36m0:00:00\u001b[0m\n",
            "\u001b[?25hRequirement already satisfied: triton==2.1.0 in /usr/local/lib/python3.10/dist-packages (from torch) (2.1.0)\n",
            "Collecting nvidia-nvjitlink-cu12 (from nvidia-cusolver-cu12==11.4.5.107->torch)\n",
            "  Downloading nvidia_nvjitlink_cu12-12.3.52-py3-none-manylinux1_x86_64.whl.metadata (1.5 kB)\n",
            "Requirement already satisfied: numpy in /usr/local/lib/python3.10/dist-packages (from torchvision) (1.23.5)\n",
            "Requirement already satisfied: requests in /usr/local/lib/python3.10/dist-packages (from torchvision) (2.31.0)\n",
            "Requirement already satisfied: pillow!=8.3.*,>=5.3.0 in /usr/local/lib/python3.10/dist-packages (from torchvision) (9.4.0)\n",
            "Requirement already satisfied: MarkupSafe>=2.0 in /usr/local/lib/python3.10/dist-packages (from jinja2->torch) (2.1.3)\n",
            "Requirement already satisfied: charset-normalizer<4,>=2 in /usr/local/lib/python3.10/dist-packages (from requests->torchvision) (3.3.1)\n",
            "Requirement already satisfied: idna<4,>=2.5 in /usr/local/lib/python3.10/dist-packages (from requests->torchvision) (3.4)\n",
            "Requirement already satisfied: urllib3<3,>=1.21.1 in /usr/local/lib/python3.10/dist-packages (from requests->torchvision) (2.0.7)\n",
            "Requirement already satisfied: certifi>=2017.4.17 in /usr/local/lib/python3.10/dist-packages (from requests->torchvision) (2023.7.22)\n",
            "Requirement already satisfied: mpmath>=0.19 in /usr/local/lib/python3.10/dist-packages (from sympy->torch) (1.3.0)\n",
            "Downloading torch-2.1.0-cp310-cp310-manylinux1_x86_64.whl (670.2 MB)\n",
            "\u001b[2K   \u001b[90m━━━━━━━━━━━━━━━━━━━━━━━━━━━━━━━━━━━━━━━━\u001b[0m \u001b[32m670.2/670.2 MB\u001b[0m \u001b[31m3.5 MB/s\u001b[0m eta \u001b[36m0:00:00\u001b[0m\n",
            "\u001b[?25hDownloading nvidia_cudnn_cu12-8.9.2.26-py3-none-manylinux1_x86_64.whl (731.7 MB)\n",
            "\u001b[2K   \u001b[90m━━━━━━━━━━━━━━━━━━━━━━━━━━━━━━━━━━━━━━━━\u001b[0m \u001b[32m731.7/731.7 MB\u001b[0m \u001b[31m3.4 MB/s\u001b[0m eta \u001b[36m0:00:00\u001b[0m\n",
            "\u001b[?25hDownloading torchvision-0.16.0-cp310-cp310-manylinux1_x86_64.whl (6.9 MB)\n",
            "\u001b[2K   \u001b[90m━━━━━━━━━━━━━━━━━━━━━━━━━━━━━━━━━━━━━━━━\u001b[0m \u001b[32m6.9/6.9 MB\u001b[0m \u001b[31m107.2 MB/s\u001b[0m eta \u001b[36m0:00:00\u001b[0m\n",
            "\u001b[?25hDownloading nvidia_nvjitlink_cu12-12.3.52-py3-none-manylinux1_x86_64.whl (20.5 MB)\n",
            "\u001b[2K   \u001b[90m━━━━━━━━━━━━━━━━━━━━━━━━━━━━━━━━━━━━━━━━\u001b[0m \u001b[32m20.5/20.5 MB\u001b[0m \u001b[31m96.5 MB/s\u001b[0m eta \u001b[36m0:00:00\u001b[0m\n",
            "\u001b[?25hInstalling collected packages: nvidia-nvtx-cu12, nvidia-nvjitlink-cu12, nvidia-nccl-cu12, nvidia-curand-cu12, nvidia-cufft-cu12, nvidia-cuda-runtime-cu12, nvidia-cuda-nvrtc-cu12, nvidia-cuda-cupti-cu12, nvidia-cublas-cu12, nvidia-cusparse-cu12, nvidia-cudnn-cu12, nvidia-cusolver-cu12, torch, torchvision\n",
            "  Attempting uninstall: torch\n",
            "    Found existing installation: torch 1.11.0+cu113\n",
            "    Uninstalling torch-1.11.0+cu113:\n",
            "      Successfully uninstalled torch-1.11.0+cu113\n",
            "  Attempting uninstall: torchvision\n",
            "    Found existing installation: torchvision 0.12.0+cu113\n",
            "    Uninstalling torchvision-0.12.0+cu113:\n",
            "      Successfully uninstalled torchvision-0.12.0+cu113\n",
            "\u001b[31mERROR: pip's dependency resolver does not currently take into account all the packages that are installed. This behaviour is the source of the following dependency conflicts.\n",
            "torchaudio 0.11.0+cu113 requires torch==1.11.0, but you have torch 2.1.0 which is incompatible.\u001b[0m\u001b[31m\n",
            "\u001b[0mSuccessfully installed nvidia-cublas-cu12-12.1.3.1 nvidia-cuda-cupti-cu12-12.1.105 nvidia-cuda-nvrtc-cu12-12.1.105 nvidia-cuda-runtime-cu12-12.1.105 nvidia-cudnn-cu12-8.9.2.26 nvidia-cufft-cu12-11.0.2.54 nvidia-curand-cu12-10.3.2.106 nvidia-cusolver-cu12-11.4.5.107 nvidia-cusparse-cu12-12.1.0.106 nvidia-nccl-cu12-2.18.1 nvidia-nvjitlink-cu12-12.3.52 nvidia-nvtx-cu12-12.1.105 torch-2.1.0 torchvision-0.16.0\n",
            "\u001b[33mWARNING: Running pip as the 'root' user can result in broken permissions and conflicting behaviour with the system package manager. It is recommended to use a virtual environment instead: https://pip.pypa.io/warnings/venv\u001b[0m\u001b[33m\n",
            "\u001b[0m"
          ]
        },
        {
          "output_type": "display_data",
          "data": {
            "application/vnd.colab-display-data+json": {
              "pip_warning": {
                "packages": [
                  "torch",
                  "torchgen"
                ]
              }
            }
          },
          "metadata": {}
        }
      ]
    },
    {
      "cell_type": "code",
      "execution_count": 6,
      "metadata": {
        "colab": {
          "base_uri": "https://localhost:8080/"
        },
        "id": "nH9txRsdav6y",
        "outputId": "3ff3bb15-189e-4122-b1f8-6e09e5e95413"
      },
      "outputs": [
        {
          "output_type": "stream",
          "name": "stdout",
          "text": [
            "Mounted at /content/drive\n"
          ]
        }
      ],
      "source": [
        "from google.colab import drive\n",
        "drive.mount('/content/drive')"
      ]
    },
    {
      "cell_type": "code",
      "execution_count": 7,
      "metadata": {
        "colab": {
          "base_uri": "https://localhost:8080/"
        },
        "id": "Hfb342xObGEz",
        "outputId": "8ade1168-d160-46e4-bda7-4bfa9fe97800"
      },
      "outputs": [
        {
          "output_type": "stream",
          "name": "stdout",
          "text": [
            "/content/drive/My Drive/ClimSim\n"
          ]
        }
      ],
      "source": [
        "%cd /content/drive/My\\ Drive/ClimSim"
      ]
    },
    {
      "cell_type": "code",
      "execution_count": 8,
      "metadata": {
        "colab": {
          "base_uri": "https://localhost:8080/"
        },
        "id": "0BfHJtfQbH8r",
        "outputId": "f5b7ff55-022c-4c7d-9eef-17f60eb0da52"
      },
      "outputs": [
        {
          "output_type": "stream",
          "name": "stdout",
          "text": [
            "Processing /content/drive/My Drive/ClimSim\n",
            "  Preparing metadata (setup.py) ... \u001b[?25l\u001b[?25hdone\n",
            "Requirement already satisfied: xarray in /usr/local/lib/python3.10/dist-packages (from climsim-utils==0.0.1) (2023.7.0)\n",
            "Requirement already satisfied: numpy in /usr/local/lib/python3.10/dist-packages (from climsim-utils==0.0.1) (1.23.5)\n",
            "Requirement already satisfied: pandas in /usr/local/lib/python3.10/dist-packages (from climsim-utils==0.0.1) (1.5.3)\n",
            "Requirement already satisfied: matplotlib in /usr/local/lib/python3.10/dist-packages (from climsim-utils==0.0.1) (3.7.1)\n",
            "Requirement already satisfied: tensorflow in /usr/local/lib/python3.10/dist-packages (from climsim-utils==0.0.1) (2.14.0)\n",
            "Collecting netCDF4 (from climsim-utils==0.0.1)\n",
            "  Downloading netCDF4-1.6.5-cp310-cp310-manylinux_2_17_x86_64.manylinux2014_x86_64.whl.metadata (1.8 kB)\n",
            "Requirement already satisfied: h5py in /usr/local/lib/python3.10/dist-packages (from climsim-utils==0.0.1) (3.9.0)\n",
            "Requirement already satisfied: tqdm in /usr/local/lib/python3.10/dist-packages (from climsim-utils==0.0.1) (4.66.1)\n",
            "Requirement already satisfied: contourpy>=1.0.1 in /usr/local/lib/python3.10/dist-packages (from matplotlib->climsim-utils==0.0.1) (1.1.1)\n",
            "Requirement already satisfied: cycler>=0.10 in /usr/local/lib/python3.10/dist-packages (from matplotlib->climsim-utils==0.0.1) (0.12.1)\n",
            "Requirement already satisfied: fonttools>=4.22.0 in /usr/local/lib/python3.10/dist-packages (from matplotlib->climsim-utils==0.0.1) (4.43.1)\n",
            "Requirement already satisfied: kiwisolver>=1.0.1 in /usr/local/lib/python3.10/dist-packages (from matplotlib->climsim-utils==0.0.1) (1.4.5)\n",
            "Requirement already satisfied: packaging>=20.0 in /usr/local/lib/python3.10/dist-packages (from matplotlib->climsim-utils==0.0.1) (23.2)\n",
            "Requirement already satisfied: pillow>=6.2.0 in /usr/local/lib/python3.10/dist-packages (from matplotlib->climsim-utils==0.0.1) (9.4.0)\n",
            "Requirement already satisfied: pyparsing>=2.3.1 in /usr/local/lib/python3.10/dist-packages (from matplotlib->climsim-utils==0.0.1) (3.1.1)\n",
            "Requirement already satisfied: python-dateutil>=2.7 in /usr/local/lib/python3.10/dist-packages (from matplotlib->climsim-utils==0.0.1) (2.8.2)\n",
            "Collecting cftime (from netCDF4->climsim-utils==0.0.1)\n",
            "  Downloading cftime-1.6.3-cp310-cp310-manylinux_2_17_x86_64.manylinux2014_x86_64.whl.metadata (8.6 kB)\n",
            "Requirement already satisfied: certifi in /usr/local/lib/python3.10/dist-packages (from netCDF4->climsim-utils==0.0.1) (2023.7.22)\n",
            "Requirement already satisfied: pytz>=2020.1 in /usr/local/lib/python3.10/dist-packages (from pandas->climsim-utils==0.0.1) (2023.3.post1)\n",
            "Requirement already satisfied: absl-py>=1.0.0 in /usr/local/lib/python3.10/dist-packages (from tensorflow->climsim-utils==0.0.1) (1.4.0)\n",
            "Requirement already satisfied: astunparse>=1.6.0 in /usr/local/lib/python3.10/dist-packages (from tensorflow->climsim-utils==0.0.1) (1.6.3)\n",
            "Requirement already satisfied: flatbuffers>=23.5.26 in /usr/local/lib/python3.10/dist-packages (from tensorflow->climsim-utils==0.0.1) (23.5.26)\n",
            "Requirement already satisfied: gast!=0.5.0,!=0.5.1,!=0.5.2,>=0.2.1 in /usr/local/lib/python3.10/dist-packages (from tensorflow->climsim-utils==0.0.1) (0.5.4)\n",
            "Requirement already satisfied: google-pasta>=0.1.1 in /usr/local/lib/python3.10/dist-packages (from tensorflow->climsim-utils==0.0.1) (0.2.0)\n",
            "Requirement already satisfied: libclang>=13.0.0 in /usr/local/lib/python3.10/dist-packages (from tensorflow->climsim-utils==0.0.1) (16.0.6)\n",
            "Requirement already satisfied: ml-dtypes==0.2.0 in /usr/local/lib/python3.10/dist-packages (from tensorflow->climsim-utils==0.0.1) (0.2.0)\n",
            "Requirement already satisfied: opt-einsum>=2.3.2 in /usr/local/lib/python3.10/dist-packages (from tensorflow->climsim-utils==0.0.1) (3.3.0)\n",
            "Requirement already satisfied: protobuf!=4.21.0,!=4.21.1,!=4.21.2,!=4.21.3,!=4.21.4,!=4.21.5,<5.0.0dev,>=3.20.3 in /usr/local/lib/python3.10/dist-packages (from tensorflow->climsim-utils==0.0.1) (3.20.3)\n",
            "Requirement already satisfied: setuptools in /usr/local/lib/python3.10/dist-packages (from tensorflow->climsim-utils==0.0.1) (67.7.2)\n",
            "Requirement already satisfied: six>=1.12.0 in /usr/local/lib/python3.10/dist-packages (from tensorflow->climsim-utils==0.0.1) (1.16.0)\n",
            "Requirement already satisfied: termcolor>=1.1.0 in /usr/local/lib/python3.10/dist-packages (from tensorflow->climsim-utils==0.0.1) (2.3.0)\n",
            "Requirement already satisfied: typing-extensions>=3.6.6 in /usr/local/lib/python3.10/dist-packages (from tensorflow->climsim-utils==0.0.1) (4.5.0)\n",
            "Requirement already satisfied: wrapt<1.15,>=1.11.0 in /usr/local/lib/python3.10/dist-packages (from tensorflow->climsim-utils==0.0.1) (1.14.1)\n",
            "Requirement already satisfied: tensorflow-io-gcs-filesystem>=0.23.1 in /usr/local/lib/python3.10/dist-packages (from tensorflow->climsim-utils==0.0.1) (0.34.0)\n",
            "Requirement already satisfied: grpcio<2.0,>=1.24.3 in /usr/local/lib/python3.10/dist-packages (from tensorflow->climsim-utils==0.0.1) (1.59.0)\n",
            "Requirement already satisfied: tensorboard<2.15,>=2.14 in /usr/local/lib/python3.10/dist-packages (from tensorflow->climsim-utils==0.0.1) (2.14.1)\n",
            "Requirement already satisfied: tensorflow-estimator<2.15,>=2.14.0 in /usr/local/lib/python3.10/dist-packages (from tensorflow->climsim-utils==0.0.1) (2.14.0)\n",
            "Requirement already satisfied: keras<2.15,>=2.14.0 in /usr/local/lib/python3.10/dist-packages (from tensorflow->climsim-utils==0.0.1) (2.14.0)\n",
            "Requirement already satisfied: wheel<1.0,>=0.23.0 in /usr/local/lib/python3.10/dist-packages (from astunparse>=1.6.0->tensorflow->climsim-utils==0.0.1) (0.41.2)\n",
            "Requirement already satisfied: google-auth<3,>=1.6.3 in /usr/local/lib/python3.10/dist-packages (from tensorboard<2.15,>=2.14->tensorflow->climsim-utils==0.0.1) (2.17.3)\n",
            "Requirement already satisfied: google-auth-oauthlib<1.1,>=0.5 in /usr/local/lib/python3.10/dist-packages (from tensorboard<2.15,>=2.14->tensorflow->climsim-utils==0.0.1) (1.0.0)\n",
            "Requirement already satisfied: markdown>=2.6.8 in /usr/local/lib/python3.10/dist-packages (from tensorboard<2.15,>=2.14->tensorflow->climsim-utils==0.0.1) (3.5)\n",
            "Requirement already satisfied: requests<3,>=2.21.0 in /usr/local/lib/python3.10/dist-packages (from tensorboard<2.15,>=2.14->tensorflow->climsim-utils==0.0.1) (2.31.0)\n",
            "Requirement already satisfied: tensorboard-data-server<0.8.0,>=0.7.0 in /usr/local/lib/python3.10/dist-packages (from tensorboard<2.15,>=2.14->tensorflow->climsim-utils==0.0.1) (0.7.2)\n",
            "Requirement already satisfied: werkzeug>=1.0.1 in /usr/local/lib/python3.10/dist-packages (from tensorboard<2.15,>=2.14->tensorflow->climsim-utils==0.0.1) (3.0.1)\n",
            "Requirement already satisfied: cachetools<6.0,>=2.0.0 in /usr/local/lib/python3.10/dist-packages (from google-auth<3,>=1.6.3->tensorboard<2.15,>=2.14->tensorflow->climsim-utils==0.0.1) (5.3.2)\n",
            "Requirement already satisfied: pyasn1-modules>=0.2.1 in /usr/local/lib/python3.10/dist-packages (from google-auth<3,>=1.6.3->tensorboard<2.15,>=2.14->tensorflow->climsim-utils==0.0.1) (0.3.0)\n",
            "Requirement already satisfied: rsa<5,>=3.1.4 in /usr/local/lib/python3.10/dist-packages (from google-auth<3,>=1.6.3->tensorboard<2.15,>=2.14->tensorflow->climsim-utils==0.0.1) (4.9)\n",
            "Requirement already satisfied: requests-oauthlib>=0.7.0 in /usr/local/lib/python3.10/dist-packages (from google-auth-oauthlib<1.1,>=0.5->tensorboard<2.15,>=2.14->tensorflow->climsim-utils==0.0.1) (1.3.1)\n",
            "Requirement already satisfied: charset-normalizer<4,>=2 in /usr/local/lib/python3.10/dist-packages (from requests<3,>=2.21.0->tensorboard<2.15,>=2.14->tensorflow->climsim-utils==0.0.1) (3.3.1)\n",
            "Requirement already satisfied: idna<4,>=2.5 in /usr/local/lib/python3.10/dist-packages (from requests<3,>=2.21.0->tensorboard<2.15,>=2.14->tensorflow->climsim-utils==0.0.1) (3.4)\n",
            "Requirement already satisfied: urllib3<3,>=1.21.1 in /usr/local/lib/python3.10/dist-packages (from requests<3,>=2.21.0->tensorboard<2.15,>=2.14->tensorflow->climsim-utils==0.0.1) (2.0.7)\n",
            "Requirement already satisfied: MarkupSafe>=2.1.1 in /usr/local/lib/python3.10/dist-packages (from werkzeug>=1.0.1->tensorboard<2.15,>=2.14->tensorflow->climsim-utils==0.0.1) (2.1.3)\n",
            "Requirement already satisfied: pyasn1<0.6.0,>=0.4.6 in /usr/local/lib/python3.10/dist-packages (from pyasn1-modules>=0.2.1->google-auth<3,>=1.6.3->tensorboard<2.15,>=2.14->tensorflow->climsim-utils==0.0.1) (0.5.0)\n",
            "Requirement already satisfied: oauthlib>=3.0.0 in /usr/local/lib/python3.10/dist-packages (from requests-oauthlib>=0.7.0->google-auth-oauthlib<1.1,>=0.5->tensorboard<2.15,>=2.14->tensorflow->climsim-utils==0.0.1) (3.2.2)\n",
            "Downloading netCDF4-1.6.5-cp310-cp310-manylinux_2_17_x86_64.manylinux2014_x86_64.whl (5.5 MB)\n",
            "\u001b[2K   \u001b[90m━━━━━━━━━━━━━━━━━━━━━━━━━━━━━━━━━━━━━━━━\u001b[0m \u001b[32m5.5/5.5 MB\u001b[0m \u001b[31m44.8 MB/s\u001b[0m eta \u001b[36m0:00:00\u001b[0m\n",
            "\u001b[?25hDownloading cftime-1.6.3-cp310-cp310-manylinux_2_17_x86_64.manylinux2014_x86_64.whl (1.3 MB)\n",
            "\u001b[2K   \u001b[90m━━━━━━━━━━━━━━━━━━━━━━━━━━━━━━━━━━━━━━━━\u001b[0m \u001b[32m1.3/1.3 MB\u001b[0m \u001b[31m54.0 MB/s\u001b[0m eta \u001b[36m0:00:00\u001b[0m\n",
            "\u001b[?25hBuilding wheels for collected packages: climsim-utils\n",
            "  Building wheel for climsim-utils (setup.py) ... \u001b[?25l\u001b[?25hdone\n",
            "  Created wheel for climsim-utils: filename=climsim_utils-0.0.1-py3-none-any.whl size=14544 sha256=792d0fdda171b66a67ae85e1d09b08b3fb97a5ff1774128650c5e92500338ba8\n",
            "  Stored in directory: /tmp/pip-ephem-wheel-cache-187_99ja/wheels/9a/eb/a2/01f92c710f3e2d24fe8fcd855fd61d660beab714a60aedd1ce\n",
            "Successfully built climsim-utils\n",
            "Installing collected packages: cftime, netCDF4, climsim-utils\n",
            "Successfully installed cftime-1.6.3 climsim-utils-0.0.1 netCDF4-1.6.5\n",
            "\u001b[33mWARNING: Running pip as the 'root' user can result in broken permissions and conflicting behaviour with the system package manager. It is recommended to use a virtual environment instead: https://pip.pypa.io/warnings/venv\u001b[0m\u001b[33m\n",
            "\u001b[0m"
          ]
        }
      ],
      "source": [
        "!pip install ."
      ]
    },
    {
      "cell_type": "code",
      "execution_count": 9,
      "metadata": {
        "id": "TBM99bfNXw4u"
      },
      "outputs": [],
      "source": [
        "from climsim_utils.data_utils import *"
      ]
    },
    {
      "cell_type": "code",
      "execution_count": 10,
      "metadata": {
        "id": "i7paTe62X6zk"
      },
      "outputs": [],
      "source": [
        "import psutil\n",
        "import torch\n",
        "import torch.nn as nn\n",
        "from torch.utils.checkpoint import checkpoint\n",
        "import gc\n",
        "import os\n",
        "import numpy as np\n",
        "from torch import optim\n",
        "from tqdm import tqdm\n",
        "from torch.cuda.amp import autocast, GradScaler"
      ]
    },
    {
      "cell_type": "markdown",
      "metadata": {
        "id": "nmHfcz7GXw4w"
      },
      "source": [
        "# Instantiate class"
      ]
    },
    {
      "cell_type": "code",
      "execution_count": 11,
      "metadata": {
        "id": "znva_joNXw4x"
      },
      "outputs": [],
      "source": [
        "grid_path = 'grid_info/ClimSim_low-res_grid-info.nc'\n",
        "norm_path = 'preprocessing/normalizations/'\n",
        "\n",
        "grid_info = xr.open_dataset(grid_path)\n",
        "input_mean = xr.open_dataset(norm_path + 'inputs/input_mean.nc')\n",
        "input_max = xr.open_dataset(norm_path + 'inputs/input_max.nc')\n",
        "input_min = xr.open_dataset(norm_path + 'inputs/input_min.nc')\n",
        "output_scale = xr.open_dataset(norm_path + 'outputs/output_scale.nc')\n",
        "\n",
        "data = data_utils(grid_info = grid_info,\n",
        "                  input_mean = input_mean,\n",
        "                  input_max = input_max,\n",
        "                  input_min = input_min,\n",
        "                  output_scale = output_scale)\n",
        "\n",
        "# set variables to V1 subset\n",
        "data.set_to_v1_vars()"
      ]
    },
    {
      "cell_type": "code",
      "execution_count": 12,
      "metadata": {
        "colab": {
          "base_uri": "https://localhost:8080/"
        },
        "id": "-KbzR76sscmD",
        "outputId": "567cb382-159b-4e6d-d170-c99d6a79a7cf"
      },
      "outputs": [
        {
          "output_type": "execute_result",
          "data": {
            "text/plain": [
              "<climsim_utils.data_utils.data_utils at 0x7f6c466f5a80>"
            ]
          },
          "metadata": {},
          "execution_count": 12
        }
      ],
      "source": [
        "data"
      ]
    },
    {
      "cell_type": "code",
      "execution_count": 13,
      "metadata": {
        "id": "lcJeys8zXzf1"
      },
      "outputs": [],
      "source": [
        "data_path = 'data/'\n",
        "\n",
        "def data_generator(input_path, target_path, batch_size):\n",
        "    start_idx = 0\n",
        "    while True:\n",
        "        input_batch = np.load(input_path, mmap_mode='r')[start_idx:start_idx + batch_size]\n",
        "        target_batch = np.load(target_path, mmap_mode='r')[start_idx:start_idx + batch_size]\n",
        "\n",
        "        if not input_batch.shape[0]:  # If there's no more data to read\n",
        "            break\n",
        "\n",
        "        yield input_batch, target_batch\n",
        "\n",
        "        # Move to the next batch\n",
        "        start_idx += batch_size\n",
        "\n",
        "        # Clean up to save memory\n",
        "        del input_batch, target_batch\n",
        "        gc.collect()"
      ]
    },
    {
      "cell_type": "markdown",
      "metadata": {
        "id": "2eqNhWr2Xw4x"
      },
      "source": [
        "# Load training and validation data"
      ]
    },
    {
      "cell_type": "code",
      "execution_count": 14,
      "metadata": {
        "id": "CLbocoZBXw4y"
      },
      "outputs": [],
      "source": [
        "# Change this path to your own\n",
        "\n",
        "train_input_path = data_path + 'train_input.npy'\n",
        "train_target_path = data_path + 'train_target.npy'\n",
        "val_input_path = data_path + 'val_input.npy'\n",
        "val_target_path = data_path + 'val_target.npy'\n",
        "\n",
        "data.input_train = data.load_npy_file(train_input_path)\n",
        "data.target_train = data.load_npy_file(train_target_path)\n",
        "data.input_val = data.load_npy_file(val_input_path)\n",
        "data.target_val = data.load_npy_file(val_target_path)"
      ]
    },
    {
      "cell_type": "code",
      "execution_count": 45,
      "metadata": {
        "colab": {
          "base_uri": "https://localhost:8080/"
        },
        "id": "klESvDzD6KCK",
        "outputId": "a298992d-35d0-4bdc-a38f-c85fc6075a89"
      },
      "outputs": [
        {
          "output_type": "stream",
          "name": "stdout",
          "text": [
            "[[-0.00152047 -0.02064619 -0.04413677 ... -0.24221587  0.01536881\n",
            "  -0.01913032]\n",
            " [-0.00205387 -0.00744582 -0.04191827 ... -0.24221587  0.02712505\n",
            "  -0.01309038]\n",
            " [ 0.00127901 -0.0272209  -0.01450001 ... -0.24221587  0.10462715\n",
            "  -0.01794561]\n",
            " ...\n",
            " [ 0.00100968  0.01005427  0.00096662 ... -0.24221587 -0.06928765\n",
            "  -0.04905556]\n",
            " [ 0.00204354  0.03254203  0.04568805 ... -0.18055856  0.00570156\n",
            "   0.05179746]\n",
            " [ 0.00163037  0.02902077  0.00940382 ... -0.24221587  0.02007267\n",
            "   0.07620458]]\n",
            "[[-0.01389134 -0.0229371  -0.02055263 ...  0.          0.\n",
            "   0.        ]\n",
            " [-0.00876616 -0.03210088 -0.01762229 ...  0.          0.\n",
            "   0.        ]\n",
            " [-0.02257696 -0.01670598 -0.04079036 ...  0.          0.\n",
            "   0.        ]\n",
            " ...\n",
            " [-0.02021906 -0.05412566 -0.05633693 ...  0.          0.\n",
            "   0.        ]\n",
            " [ 0.01990793 -0.0214684  -0.01651216 ...  0.15774421  0.12234289\n",
            "   0.07862461]\n",
            " [-0.0184947  -0.07251268 -0.05965008 ...  0.00823577  0.03030163\n",
            "   0.03659341]]\n"
          ]
        }
      ],
      "source": [
        "print(data.input_train)\n",
        "print(data.target_train)"
      ]
    },
    {
      "cell_type": "code",
      "execution_count": 46,
      "metadata": {
        "colab": {
          "base_uri": "https://localhost:8080/"
        },
        "id": "Ui8nZynewRi_",
        "outputId": "161769b4-7774-4876-aa5c-7afa17af23df"
      },
      "outputs": [
        {
          "output_type": "stream",
          "name": "stdout",
          "text": [
            "(10091520, 124)\n",
            "(10091520, 128)\n"
          ]
        }
      ],
      "source": [
        "print(data.input_train.shape)\n",
        "print(data.target_train.shape)"
      ]
    },
    {
      "cell_type": "markdown",
      "metadata": {
        "id": "ELRxyOAsXw4y"
      },
      "source": [
        "# Train models"
      ]
    },
    {
      "cell_type": "markdown",
      "source": [
        "### SimpleCNN"
      ],
      "metadata": {
        "id": "-UoEi58COLye"
      }
    },
    {
      "cell_type": "code",
      "execution_count": null,
      "metadata": {
        "colab": {
          "base_uri": "https://localhost:8080/"
        },
        "id": "YDX_W5auG_CP",
        "outputId": "ba4d8342-9d99-4c71-b755-516e7b09bc22"
      },
      "outputs": [
        {
          "name": "stderr",
          "output_type": "stream",
          "text": [
            "100%|██████████| 157680/157680 [09:55<00:00, 264.83it/s]\n"
          ]
        },
        {
          "name": "stdout",
          "output_type": "stream",
          "text": [
            "Epoch 1/3, Loss: 0.0045\n"
          ]
        },
        {
          "name": "stderr",
          "output_type": "stream",
          "text": [
            "100%|██████████| 157680/157680 [09:23<00:00, 279.80it/s]\n"
          ]
        },
        {
          "name": "stdout",
          "output_type": "stream",
          "text": [
            "Epoch 2/3, Loss: 0.0044\n"
          ]
        },
        {
          "name": "stderr",
          "output_type": "stream",
          "text": [
            "100%|██████████| 157680/157680 [09:39<00:00, 272.14it/s]"
          ]
        },
        {
          "name": "stdout",
          "output_type": "stream",
          "text": [
            "Epoch 3/3, Loss: 0.0043\n"
          ]
        },
        {
          "name": "stderr",
          "output_type": "stream",
          "text": [
            "\n"
          ]
        }
      ],
      "source": [
        "import torch\n",
        "import torch.nn as nn\n",
        "import torch.optim as optim\n",
        "import os\n",
        "from torch.cuda.amp import autocast, GradScaler\n",
        "from torch.utils.data import DataLoader\n",
        "from tqdm import tqdm\n",
        "import numpy as np\n",
        "\n",
        "# Define a model, here we use a simple 1D convolutional network\n",
        "class SimpleCNN(nn.Module):\n",
        "    def __init__(self, input_dim, output_dim):\n",
        "        super(SimpleCNN, self).__init__()\n",
        "        self.conv1 = nn.Conv1d(input_dim, 128, kernel_size=3, padding=1)\n",
        "        self.relu = nn.ReLU()\n",
        "        self.fc = nn.Linear(128, output_dim)\n",
        "\n",
        "    def forward(self, x):\n",
        "        x = self.conv1(x)\n",
        "        x = self.relu(x)\n",
        "        x = torch.mean(x, dim=2)  # Global Average Pooling\n",
        "        x = self.fc(x)\n",
        "        return x\n",
        "\n",
        "#Prepare the data\n",
        "#Assume the shape of data.input_train is (10091520, 124), we need to reshape it to (10091520, 124, 1).\n",
        "#Assume the shape of data.target_train is (10091520, <output_dim>).\n",
        "input_train = np.expand_dims(data.input_train, axis=2)\n",
        "target_train = data.target_train\n",
        "\n",
        "# Convert the data to PyTorch tensors.\n",
        "input_train = torch.tensor(input_train, dtype=torch.float32)\n",
        "target_train = torch.tensor(target_train, dtype=torch.float32)\n",
        "\n",
        "# Define the batch size and gradient accumulation steps.\n",
        "batch_size = 64\n",
        "epochs = 3\n",
        "input_dim = input_train.shape[1]\n",
        "output_dim = target_train.shape[1]\n",
        "\n",
        "# Initialize the model, loss function, and optimizer.\n",
        "device = torch.device(\"cuda\" if torch.cuda.is_available() else \"cpu\")\n",
        "model = SimpleCNN(input_dim, output_dim).to(device)\n",
        "criterion = nn.MSELoss()\n",
        "optimizer = optim.Adam(model.parameters(), lr=0.001)\n",
        "\n",
        "# Create a data loader.\n",
        "train_dataset = torch.utils.data.TensorDataset(input_train, target_train)\n",
        "train_loader = DataLoader(train_dataset, batch_size=batch_size, shuffle=True)\n",
        "\n",
        "# Training loop\n",
        "for epoch in range(epochs):\n",
        "    model.train()\n",
        "    running_loss = 0.0\n",
        "    for inputs, targets in tqdm(train_loader):\n",
        "        inputs, targets = inputs.to(device), targets.to(device)\n",
        "\n",
        "        optimizer.zero_grad()\n",
        "        with autocast():\n",
        "            outputs = model(inputs)\n",
        "            loss = criterion(outputs, targets)\n",
        "\n",
        "        loss.backward()\n",
        "        optimizer.step()\n",
        "\n",
        "        running_loss += loss.item()\n",
        "\n",
        "    print(f\"Epoch {epoch+1}/{epochs}, Loss: {running_loss/len(train_loader):.4f}\")\n",
        "\n",
        "# Save the entire model after training is finished.\n",
        "torch.save(model, \"cnn_model.pth\")\n"
      ]
    },
    {
      "cell_type": "markdown",
      "source": [
        "### ImprovedCNN"
      ],
      "metadata": {
        "id": "I4mKBLVOOQ13"
      }
    },
    {
      "cell_type": "code",
      "execution_count": 49,
      "metadata": {
        "colab": {
          "base_uri": "https://localhost:8080/"
        },
        "id": "Gwj2Nj9JyzdU",
        "outputId": "bd82c19c-2e3b-4843-d533-c09e612fab77"
      },
      "outputs": [
        {
          "output_type": "stream",
          "name": "stderr",
          "text": [
            "100%|██████████| 157680/157680 [1:13:24<00:00, 35.80it/s]\n"
          ]
        },
        {
          "output_type": "stream",
          "name": "stdout",
          "text": [
            "Epoch 1/3, Training Loss: 0.0051\n",
            "Epoch 1/3, Validation Loss: 0.0044\n"
          ]
        },
        {
          "output_type": "stream",
          "name": "stderr",
          "text": [
            "100%|██████████| 157680/157680 [1:25:23<00:00, 30.77it/s]\n"
          ]
        },
        {
          "output_type": "stream",
          "name": "stdout",
          "text": [
            "Epoch 2/3, Training Loss: 0.0049\n",
            "Epoch 2/3, Validation Loss: 0.0044\n"
          ]
        },
        {
          "output_type": "stream",
          "name": "stderr",
          "text": [
            "100%|██████████| 157680/157680 [1:26:34<00:00, 30.35it/s]\n"
          ]
        },
        {
          "output_type": "stream",
          "name": "stdout",
          "text": [
            "Epoch 3/3, Training Loss: 0.0048\n",
            "Epoch 3/3, Validation Loss: 0.0044\n"
          ]
        }
      ],
      "source": [
        "import torch\n",
        "import torch.nn as nn\n",
        "import torch.optim as optim\n",
        "from torch.utils.data import DataLoader, TensorDataset\n",
        "from tqdm import tqdm\n",
        "import numpy as np\n",
        "import os\n",
        "\n",
        "# Define model\n",
        "class ImprovedCNN(nn.Module):\n",
        "    def __init__(self, input_dim, output_dim):\n",
        "        super(ImprovedCNN, self).__init__()\n",
        "        self.conv1 = nn.Conv1d(input_dim, 64, kernel_size=3, padding=1)\n",
        "        self.bn1 = nn.BatchNorm1d(64)\n",
        "        self.relu = nn.ReLU()\n",
        "        self.maxpool1 = nn.MaxPool1d(kernel_size=2, stride=2, padding=1)  # 添加了padding\n",
        "        self.dropout = nn.Dropout(0.5)\n",
        "\n",
        "        self.conv2 = nn.Conv1d(64, 128, kernel_size=3, padding=1)\n",
        "        self.bn2 = nn.BatchNorm1d(128)\n",
        "        self.maxpool2 = nn.MaxPool1d(kernel_size=2, stride=2, padding=1)  # 添加了padding\n",
        "\n",
        "        self.conv3 = nn.Conv1d(128, 256, kernel_size=3, padding=1)\n",
        "        self.bn3 = nn.BatchNorm1d(256)\n",
        "        self.adaptivepool = nn.AdaptiveAvgPool1d(1)\n",
        "\n",
        "        self.flatten = nn.Flatten()\n",
        "        self.fc1 = nn.Linear(256, 1024)\n",
        "        self.dropout1 = nn.Dropout(0.5)\n",
        "        self.relu1 = nn.ReLU()\n",
        "\n",
        "        self.fc2 = nn.Linear(1024, 512)\n",
        "        self.dropout2 = nn.Dropout(0.5)\n",
        "        self.relu2 = nn.ReLU()\n",
        "\n",
        "        self.output = nn.Linear(512, output_dim)\n",
        "\n",
        "    def forward(self, x):\n",
        "        x = self.maxpool1(self.relu(self.bn1(self.conv1(x))))\n",
        "        x = self.maxpool2(self.relu(self.bn2(self.conv2(x))))\n",
        "        x = self.adaptivepool(self.relu(self.bn3(self.conv3(x))))\n",
        "        x = self.flatten(x)\n",
        "        x = self.relu1(self.dropout1(self.fc1(x)))\n",
        "        x = self.relu2(self.dropout2(self.fc2(x)))\n",
        "        x = self.output(x)\n",
        "        return x\n",
        "\n",
        "# #Prepare the data\n",
        "input_train = np.expand_dims(data.input_train, axis=2)\n",
        "target_train = data.target_train\n",
        "input_val = np.expand_dims(data.input_val, axis=2)\n",
        "target_val = data.target_val\n",
        "\n",
        "# Convert the data to PyTorch tensors.\n",
        "input_train = torch.tensor(input_train, dtype=torch.float32)\n",
        "target_train = torch.tensor(target_train, dtype=torch.float32)\n",
        "input_val = torch.tensor(input_val, dtype=torch.float32)\n",
        "target_val = torch.tensor(target_val, dtype=torch.float32)\n",
        "\n",
        "# Define the batch size and number of epochs.\n",
        "batch_size = 64\n",
        "epochs = 3\n",
        "\n",
        "# Initialize the model, loss function, and optimizer.\n",
        "device = torch.device(\"cuda\" if torch.cuda.is_available() else \"cpu\")\n",
        "model = ImprovedCNN(input_train.shape[1], target_train.shape[1]).to(device)\n",
        "criterion = nn.MSELoss()\n",
        "optimizer = optim.Adam(model.parameters(), lr=0.001)\n",
        "\n",
        "# Create a data loader.\n",
        "train_loader = DataLoader(TensorDataset(input_train, target_train), batch_size=batch_size, shuffle=True)\n",
        "val_loader = DataLoader(TensorDataset(input_val, target_val), batch_size=batch_size, shuffle=False)\n",
        "\n",
        "# Early stopping parameters.\n",
        "patience = 5\n",
        "best_val_loss = float('inf')\n",
        "epochs_without_improvement = 0\n",
        "\n",
        "# Training loop\n",
        "for epoch in range(epochs):\n",
        "    model.train()\n",
        "    running_loss = 0.0\n",
        "    for inputs, targets in tqdm(train_loader):\n",
        "        inputs, targets = inputs.to(device), targets.to(device)\n",
        "        optimizer.zero_grad()\n",
        "        outputs = model(inputs)\n",
        "        loss = criterion(outputs, targets)\n",
        "        loss.backward()\n",
        "        optimizer.step()\n",
        "        running_loss += loss.item()\n",
        "\n",
        "    print(f\"Epoch {epoch+1}/{epochs}, Training Loss: {running_loss/len(train_loader):.4f}\")\n",
        "\n",
        "    # Validation phase.\n",
        "    model.eval()\n",
        "    running_val_loss = 0.0\n",
        "    with torch.no_grad():\n",
        "        for val_inputs, val_targets in val_loader:\n",
        "            val_inputs, val_targets = val_inputs.to(device), val_targets.to(device)\n",
        "            val_outputs = model(val_inputs)\n",
        "            val_loss = criterion(val_outputs, val_targets)\n",
        "            running_val_loss += val_loss.item()\n",
        "\n",
        "    avg_val_loss = running_val_loss / len(val_loader)\n",
        "    print(f\"Epoch {epoch+1}/{epochs}, Validation Loss: {avg_val_loss:.4f}\")\n",
        "\n",
        "    # Early stopping check.\n",
        "    if avg_val_loss < best_val_loss:\n",
        "        best_val_loss = avg_val_loss\n",
        "        epochs_without_improvement = 0\n",
        "    else:\n",
        "        epochs_without_improvement += 1\n",
        "        if epochs_without_improvement >= patience:\n",
        "            print(f\"Early stopping after {epochs_without_improvement} epochs without improvement.\")\n",
        "            break\n",
        "\n",
        "# Save the entire model after training is finished.\n",
        "torch.save(model, \"cnn_model.pth\")"
      ]
    },
    {
      "cell_type": "markdown",
      "metadata": {
        "id": "l3yGKW-PXw41"
      },
      "source": [
        "# Evaluate on test data"
      ]
    },
    {
      "cell_type": "code",
      "source": [
        "import torch\n",
        "import numpy as np\n",
        "import os\n",
        "\n",
        "# Load the pre-trained model.\n",
        "model_path = \"cnn_model.pth\"\n",
        "device = torch.device(\"cuda\" if torch.cuda.is_available() else \"cpu\")\n",
        "model = torch.load(model_path, map_location=device)\n",
        "model.to(device)\n",
        "model.eval()\n",
        "\n",
        "# Load the scoring data.\n",
        "scoring_input_path = \"data/scoring_input.npy\"\n",
        "scoring_target_path = \"data/scoring_target.npy\"\n",
        "input_scoring = np.load(scoring_input_path)\n",
        "target_scoring = np.load(scoring_target_path)\n",
        "\n",
        "# Prepare the input and target data.\n",
        "input_scoring = np.expand_dims(input_scoring, axis=2)\n",
        "input_scoring = torch.tensor(input_scoring, dtype=torch.float32).to(device)\n",
        "target_scoring = torch.tensor(target_scoring, dtype=torch.float32).to(device)"
      ],
      "metadata": {
        "id": "QYpq1sa_90HR"
      },
      "execution_count": 18,
      "outputs": []
    },
    {
      "cell_type": "code",
      "source": [
        "print(input_scoring.shape)\n",
        "print(target_scoring.shape)"
      ],
      "metadata": {
        "colab": {
          "base_uri": "https://localhost:8080/"
        },
        "id": "Z9uQYtixBlky",
        "outputId": "1f1bb29c-f495-4a62-e2fb-bfeb23ac28e2"
      },
      "execution_count": 19,
      "outputs": [
        {
          "output_type": "stream",
          "name": "stdout",
          "text": [
            "torch.Size([1681920, 124, 1])\n",
            "torch.Size([1681920, 128])\n"
          ]
        }
      ]
    },
    {
      "cell_type": "code",
      "source": [
        "# Use the loaded model to make predictions on the scoring data.\n",
        "with torch.no_grad():\n",
        "    pred_scoring = model(input_scoring)\n",
        "\n",
        "# Save the prediction results for subsequent analysis.\n",
        "np.save(\"pred_scoring.npy\", pred_scoring.cpu().numpy())\n"
      ],
      "metadata": {
        "id": "isf1HxUSB0gb"
      },
      "execution_count": 20,
      "outputs": []
    },
    {
      "cell_type": "code",
      "source": [
        "pred_scoring"
      ],
      "metadata": {
        "colab": {
          "base_uri": "https://localhost:8080/"
        },
        "id": "ANTAdq76C3WX",
        "outputId": "f363afbd-d488-4c98-c3db-719f9dc17a88"
      },
      "execution_count": 21,
      "outputs": [
        {
          "output_type": "execute_result",
          "data": {
            "text/plain": [
              "tensor([[-0.0101, -0.0274, -0.0308,  ...,  0.0064,  0.0135,  0.0108],\n",
              "        [-0.0106, -0.0270, -0.0315,  ...,  0.0124,  0.0194,  0.0167],\n",
              "        [-0.0079, -0.0276, -0.0276,  ...,  0.0106,  0.0157,  0.0123],\n",
              "        ...,\n",
              "        [-0.0088, -0.0433, -0.0594,  ..., -0.0038,  0.0124,  0.0133],\n",
              "        [ 0.0179, -0.0053, -0.0074,  ...,  0.0875,  0.1425,  0.1432],\n",
              "        [-0.0091, -0.0323, -0.0411,  ...,  0.0046,  0.0185,  0.0156]])"
            ]
          },
          "metadata": {},
          "execution_count": 21
        }
      ]
    },
    {
      "cell_type": "code",
      "source": [
        "# This part requires a specific re-weighting method\n",
        "weighted_pred_scoring = pred_scoring\n",
        "weighted_target_scoring = target_scoring\n"
      ],
      "metadata": {
        "id": "Y2a_vmXkC8gy"
      },
      "execution_count": 22,
      "outputs": []
    },
    {
      "cell_type": "code",
      "source": [
        "from sklearn.metrics import mean_absolute_error, mean_squared_error, r2_score\n",
        "\n",
        "# Calculate various evaluation metrics.\n",
        "mae = mean_absolute_error(weighted_target_scoring.cpu().numpy(), weighted_pred_scoring.cpu().numpy())\n",
        "rmse = np.sqrt(mean_squared_error(weighted_target_scoring.cpu().numpy(), weighted_pred_scoring.cpu().numpy()))\n",
        "r2 = r2_score(weighted_target_scoring.cpu().numpy(), weighted_pred_scoring.cpu().numpy())\n",
        "bias = np.mean(weighted_pred_scoring.cpu().numpy() - weighted_target_scoring.cpu().numpy())\n",
        "\n",
        "metrics = {\n",
        "    'MAE': mae,\n",
        "    'RMSE': rmse,\n",
        "    'R2': r2,\n",
        "    'Bias': bias\n",
        "}\n"
      ],
      "metadata": {
        "id": "Xtc1q5tbC_lH"
      },
      "execution_count": 23,
      "outputs": []
    },
    {
      "cell_type": "code",
      "source": [
        "import matplotlib.pyplot as plt\n",
        "import pandas as pd\n",
        "import string\n",
        "\n",
        "metrics_names = ['MAE', 'RMSE', 'R2', 'Bias']\n",
        "metrics_data = {key: [value] for key, value in metrics.items()}\n",
        "plot_df = pd.DataFrame(metrics_data)\n",
        "\n",
        "# Create data for evaluation charts.\n",
        "fig, axes = plt.subplots(nrows=len(metrics_names), sharex=True)\n",
        "for i, metric_name in enumerate(metrics_names):\n",
        "    plot_df[metric_name].plot.bar(ax=axes[i], legend=False)\n",
        "    axes[i].set_title(f'({string.ascii_lowercase[i]}) {metric_name}')\n",
        "    axes[i].set_ylabel('Value')\n",
        "axes[-1].set_xlabel('Metrics')\n",
        "fig.set_size_inches(7, 8)\n",
        "fig.tight_layout()\n",
        "plt.show()\n",
        "\n"
      ],
      "metadata": {
        "colab": {
          "base_uri": "https://localhost:8080/",
          "height": 806
        },
        "id": "4-cOotZQDELx",
        "outputId": "0be350e6-8c32-4614-8d11-0ecb75e3ff2e"
      },
      "execution_count": 25,
      "outputs": [
        {
          "output_type": "display_data",
          "data": {
            "text/plain": [
              "<Figure size 700x800 with 4 Axes>"
            ],
            "image/png": "[encoded data removed]"
          },
          "metadata": {}
        }
      ]
    },
    {
      "cell_type": "markdown",
      "source": [
        "### ****The image above is just a trial and not the final required image."
      ],
      "metadata": {
        "id": "Cw8jBIf_ObSN"
      }
    },
    {
      "cell_type": "code",
      "source": [
        "import matplotlib.pyplot as plt\n",
        "import pandas as pd\n",
        "import numpy as np\n",
        "import string\n",
        "\n",
        "# Assuming your data and evaluation metrics are stored in a dictionary format\n",
        "metrics_var_scoring = {\n",
        "    'model1': {\n",
        "        'MAE': {'temperature': 1.0, 'humidity': 1.2},\n",
        "        'RMSE': {'temperature': 1.5, 'humidity': 1.8}\n",
        "    },\n",
        "    'model2': {\n",
        "        'MAE': {'temperature': 0.8, 'humidity': 1.1},\n",
        "        'RMSE': {'temperature': 1.3, 'humidity': 1.6}\n",
        "    }\n",
        "}\n",
        "\n",
        "# Create a custom dictionary for plotting.\n",
        "metrics_names = ['MAE', 'RMSE']\n",
        "model_names = ['model1', 'model2']\n",
        "output_vars = ['temperature', 'humidity']\n",
        "plot_df_byvar = {}\n",
        "\n",
        "for metric in metrics_names:\n",
        "    plot_df_byvar[metric] = pd.DataFrame(\n",
        "        [metrics_var_scoring[model][metric] for model in model_names],\n",
        "        index=model_names\n",
        "    ).transpose()\n",
        "\n",
        "# Create plot\n",
        "fig, axes = plt.subplots(nrows=len(metrics_names), sharex=True)\n",
        "for i in range(len(metrics_names)):\n",
        "    plot_df_byvar[metrics_names[i]].plot.bar(\n",
        "        legend=False,\n",
        "        ax=axes[i]\n",
        "    )\n",
        "    axes[i].set_ylabel('$W/m^2$')\n",
        "    axes[i].set_title(f'({string.ascii_lowercase[i]}) {metrics_names[i]}')\n",
        "\n",
        "axes[-1].set_xlabel('Output variable')\n",
        "axes[-1].set_xticklabels(output_vars, rotation=0, ha='center')\n",
        "\n",
        "axes[0].legend(\n",
        "    columnspacing=0.9,\n",
        "    labelspacing=0.3,\n",
        "    handleheight=0.07,\n",
        "    handlelength=1.5,\n",
        "    handletextpad=0.2,\n",
        "    borderpad=0.2,\n",
        "    ncol=3,\n",
        "    loc='upper right'\n",
        ")\n",
        "fig.set_size_inches(7, 8)\n",
        "fig.tight_layout()\n",
        "plt.show()\n"
      ],
      "metadata": {
        "colab": {
          "base_uri": "https://localhost:8080/",
          "height": 807
        },
        "id": "y81lSebNKohG",
        "outputId": "daf776d4-a793-49ab-fd2e-d1df28589685"
      },
      "execution_count": 26,
      "outputs": [
        {
          "output_type": "display_data",
          "data": {
            "text/plain": [
              "<Figure size 700x800 with 2 Axes>"
            ],
            "image/png": "[encoded data removed]"
          },
          "metadata": {}
        }
      ]
    },
    {
      "cell_type": "markdown",
      "source": [
        "### ****The image above is just a trial and not the final required image."
      ],
      "metadata": {
        "id": "TBu2l-qOOplg"
      }
    },
    {
      "cell_type": "code",
      "source": [
        "import matplotlib.pyplot as plt\n",
        "import pandas as pd\n",
        "import numpy as np\n",
        "import string\n",
        "\n",
        "# Assuming your data and evaluation metrics are stored in a dictionary format\n",
        "metrics_var_scoring = {\n",
        "    'model1': {\n",
        "        'MAE': {'temperature': 1.0, 'humidity': 1.2, 'Rain rate': 0.5, 'pressure': 2.1, 'solar insolation': 0.8, 'latent heat flux': 1.4},\n",
        "        'RMSE': {'temperature': 1.5, 'humidity': 1.8, 'Rain rate': 0.7, 'pressure': 2.5, 'solar insolation': 1.1, 'latent heat flux': 1.7},\n",
        "        'R2': {'temperature': 0.8, 'humidity': 0.7, 'Rain rate': 0.9, 'pressure': 0.6, 'solar insolation': 0.8, 'latent heat flux': 0.7},\n",
        "        'Bias': {'temperature': 0.2, 'humidity': 0.1, 'Rain rate': 0.05, 'pressure': 0.3, 'solar insolation': 0.2, 'latent heat flux': 0.15},\n",
        "    },\n",
        "    'model2': {\n",
        "        'MAE': {'temperature': 0.9, 'humidity': 1.1, 'Rain rate': 0.45, 'pressure': 2.0, 'solar insolation': 0.75, 'latent heat flux': 1.35},\n",
        "        'RMSE': {'temperature': 1.4, 'humidity': 1.7, 'Rain rate': 0.65, 'pressure': 2.4, 'solar insolation': 1.05, 'latent heat flux': 1.65},\n",
        "        'R2': {'temperature': 0.7, 'humidity': 0.6, 'Rain rate': 0.85, 'pressure': 0.55, 'solar insolation': 0.75, 'latent heat flux': 0.65},\n",
        "        'Bias': {'temperature': 0.15, 'humidity': 0.05, 'Rain rate': 0.025, 'pressure': 0.25, 'solar insolation': 0.15, 'latent heat flux': 0.1},\n",
        "    }\n",
        "}\n",
        "\n",
        "# Create a custom dictionary for plotting.\n",
        "metrics_names = ['MAE', 'RMSE', 'R2', 'Bias']\n",
        "model_names = ['model1', 'model2']\n",
        "output_vars = ['temperature', 'humidity', 'Rain rate', 'pressure', 'solar insolation', 'latent heat flux']\n",
        "plot_df_byvar = {}\n",
        "\n",
        "for metric in metrics_names:\n",
        "    plot_df_byvar[metric] = pd.DataFrame(\n",
        "        [metrics_var_scoring[model][metric] for model in model_names],\n",
        "        index=model_names\n",
        "    ).transpose()\n",
        "\n",
        "# Create plot\n",
        "fig, axes = plt.subplots(nrows=len(metrics_names), sharex=True)\n",
        "for i in range(len(metrics_names)):\n",
        "    plot_df_byvar[metrics_names[i]].plot.bar(\n",
        "        legend=False,\n",
        "        ax=axes[i]\n",
        "    )\n",
        "    axes[i].set_ylabel('$W/m^2$')\n",
        "    axes[i].set_title(f'({string.ascii_lowercase[i]}) {metrics_names[i]}')\n",
        "\n",
        "axes[-1].set_xlabel('Output variable')\n",
        "axes[-1].set_xticklabels(output_vars, rotation=45, ha='right')\n",
        "\n",
        "axes[0].legend(\n",
        "    columnspacing=0.9,\n",
        "    labelspacing=0.3,\n",
        "    handleheight=0.07,\n",
        "    handlelength=1.5,\n",
        "    handletextpad=0.2,\n",
        "    borderpad=0.2,\n",
        "    ncol=3,\n",
        "    loc='upper right'\n",
        ")\n",
        "fig.set_size_inches(10, 10)\n",
        "fig.tight_layout()\n",
        "plt.show()\n"
      ],
      "metadata": {
        "colab": {
          "base_uri": "https://localhost:8080/",
          "height": 1000
        },
        "id": "-dUGD1q7Ln4t",
        "outputId": "ed0b9017-a799-42bf-e74d-8a76b83e3ffb"
      },
      "execution_count": 27,
      "outputs": [
        {
          "output_type": "display_data",
          "data": {
            "text/plain": [
              "<Figure size 1000x1000 with 4 Axes>"
            ],
            "image/png": "[encoded data removed]"
          },
          "metadata": {}
        }
      ]
    },
    {
      "cell_type": "markdown",
      "source": [
        "This graph aims to display the evaluation metrics of different models across various output variables. Each subplot corresponds to a particular evaluation metric (e.g., MAE, RMSE, R2, Bias), and within each subplot, the bar charts exhibit the performance of different models on various output variables.\n",
        "\n",
        "1. Subplots: Each subplot corresponds to a particular evaluation metric. For instance, the first subplot may correspond to MAE (Mean Absolute Error), the second to RMSE (Root Mean Squared Error), and so on.\n",
        "\n",
        "2. Bar Charts: Each bar chart corresponds to a particular output variable (e.g., temperature, humidity, Rain rate, etc.).\n",
        "Each color of the bar charts represents a specific model (e.g., model1 or model2) on that output variable in terms of the evaluation metric.\n",
        "The height of the bars indicates the value of the evaluation metric. For example, in the MAE subplot, the height of the bars indicates the mean absolute error of the models on different output variables.\n",
        "\n",
        "3. Legend: The legend shows which color corresponds to which model.\n",
        "\n",
        "4. Axis Labels: The X-axis labels indicate the different output variables. The Y-axis labels usually indicate the units of the evaluation metric (in this case, $W/m^2$, but no units for the R^2 subplot).\n",
        "\n",
        "5. Titles: The title of each subplot indicates the evaluation metric being displayed.\n",
        "\n",
        "This graph provides researchers with an intuitive way to compare the performance of different models across different output variables. By looking at each subplot, researchers can quickly understand how each model performs on each evaluation metric and how they fare across different output variables. This is useful for understanding the strengths and weaknesses of the models and the areas where further improvements might be needed."
      ],
      "metadata": {
        "id": "y9vDZPeqMc5H"
      }
    },
    {
      "cell_type": "code",
      "source": [],
      "metadata": {
        "id": "6qefNg7DMrp6"
      },
      "execution_count": null,
      "outputs": []
    }
  ],
  "metadata": {
    "colab": {
      "machine_shape": "hm",
      "provenance": []
    },
    "kernelspec": {
      "display_name": "Python 3 (ipykernel)",
      "language": "python",
      "name": "python3"
    },
    "language_info": {
      "codemirror_mode": {
        "name": "ipython",
        "version": 3
      },
      "file_extension": ".py",
      "mimetype": "text/x-python",
      "name": "python",
      "nbconvert_exporter": "python",
      "pygments_lexer": "ipython3",
      "version": "3.10.11"
    }
  },
  "nbformat": 4,
  "nbformat_minor": 0
}